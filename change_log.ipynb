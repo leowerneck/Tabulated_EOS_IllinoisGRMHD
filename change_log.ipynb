{
 "cells": [
  {
   "cell_type": "markdown",
   "metadata": {},
   "source": [
    "# Modifications made to `IllinoisGRMHD`\n",
    "\n",
    "<a id='toc'></a>\n",
    "## Table of contents\n",
    "$$\\label{toc}$$\n",
    "\n",
    "You can use the following links to navigate through the original files in `IllinoisGRMHD`, and see what has been modified in each of them:\n",
    "\n",
    "1. **Status: <font color=\"green\">COMPLETE</font>** [A_i_rhs_no_gauge_terms.C](#A_i_rhs_no_gauge_terms)\n",
    "1. **Status: <font color=\"orange\">PENDING</font>** [IllinoisGRMHD_EoS_lowlevel_functs.C](#IllinoisGRMHD_EoS_lowlevel_functs)\n",
    "1. **Status: <font color=\"orange\">PENDING</font>** [IllinoisGRMHD_headers.h](#IllinoisGRMHD_headers)\n",
    "1. **Status: <font color=\"green\">COMPLETE</font>** [InitSymBound.C](#InitSymBound)\n",
    "1. **Status: <font color=\"green\">COMPLETE</font>** [Lorenz_psi6phi_rhs__add_gauge_terms_to_A_i_rhs.C](#Lorenz_psi6phi_rhs__add_gauge_terms_to_A_i_rhs)\n",
    "1. **Status: <font color=\"green\">COMPLETE</font>** [MoL_registration.C](#MoL_registration)\n",
    "1. **Status: <font color=\"orange\">PENDING</font>** [add_fluxes_and_source_terms_to_hydro_rhss.C](#add_fluxes_and_source_terms_to_hydro_rhss)\n",
    "1. **Status: <font color=\"orange\">PENDING</font>** [apply_tau_floor__enforce_limits_on_primitives_and_recompute_conservs.C](#apply_tau_floor__enforce_limits_on_primitives_and_recompute_conservs)\n",
    "1. **Status: <font color=\"green\">COMPLETE</font>** [compute_B_and_Bstagger_from_A.C](#compute_B_and_Bstagger_from_A)\n",
    "1. **Status: <font color=\"orange\">PENDING</font>** [compute_tau_rhs_extrinsic_curvature_terms_and_TUPmunu.C](#compute_tau_rhs_extrinsic_curvature_terms_and_TUPmunu)\n",
    "1. **Status: <font color=\"green\">COMPLETE</font>** [convert_ADM_to_BSSN__enforce_detgtij_eq_1__and_compute_gtupij.C](#convert_ADM_to_BSSN__enforce_detgtij_eq_1__and_compute_gtupij)\n",
    "1. **Status: <font color=\"orange\">PENDING</font>** [driver_conserv_to_prims.C](#driver_conserv_to_prims)\n",
    "1. **Status: <font color=\"orange\">PENDING</font>** [driver_evaluate_MHD_rhs.C](#driver_evaluate_MHD_rhs)\n",
    "1. **Status: <font color=\"orange\">PENDING</font>** [driver_evaluate_MHD_rhs.h](#driver_evaluate_MHD_rhs)\n",
    "1. **Status: <font color=\"green\">COMPLETE</font>** [eigen.C](#eigen)\n",
    "1. **Status: <font color=\"orange\">PENDING</font>** [font_fix_hybrid_EOS.C](#font_fix_hybrid_EOS)\n",
    "1. **Status: <font color=\"orange\">PENDING</font>** [harm_primitives_headers.h](#harm_primitives_headers)\n",
    "1. **Status: <font color=\"orange\">PENDING</font>** [harm_primitives_lowlevel.C](#harm_primitives_lowlevel)\n",
    "1. **Status: <font color=\"orange\">PENDING</font>** [harm_u2p_util.c](#harm_u2p_util)\n",
    "1. **Status: <font color=\"orange\">PENDING</font>** [harm_utoprim_2d.c](#harm_utoprim_2d)\n",
    "1. **Status: <font color=\"orange\">PENDING</font>** [inlined_functions.C](#inlined_functions)\n",
    "1. **Status: <font color=\"green\">COMPLETE</font>** [loop_defines_reconstruction.h](#loop_defines_reconstruction)\n",
    "1. **Status: <font color=\"orange\">PENDING</font>** [make.code.defn](#make.code.defn)\n",
    "1. **Status: <font color=\"orange\">PENDING</font>** [mhdflux.C](#mhdflux)\n",
    "1. **Status: <font color=\"orange\">PENDING</font>** [outer_boundaries.C](#outer_boundaries)\n",
    "1. **Status: <font color=\"orange\">PENDING</font>** [postpostinitial__set_symmetries__copy_timelevels.C](#postpostinitial__set_symmetries__copy_timelevels)\n",
    "1. **Status: <font color=\"orange\">PENDING</font>** [reconstruct_set_of_prims_PPM.C](#reconstruct_set_of_prims_PPM)\n",
    "1. **Status: <font color=\"orange\">PENDING</font>** [standalone_conserv_to_prims_main_function.h](#standalone_conserv_to_prims_main_function)\n",
    "1. **Status: <font color=\"orange\">PENDING</font>** [symmetry__set_gzs_staggered_gfs.C](#symmetry__set_gzs_staggered_gfs)\n",
    "\n",
    "The following files are new, and you can look at what they contain by clicking the links below:\n",
    "\n",
    "1. **Status: <font color=\"orange\">PENDING</font>** [EOS_Hybrid.cc](#EOS_Hybrid)\n",
    "1. **Status: <font color=\"orange\">PENDING</font>** [EOS_Tabulated.cc](#EOS_Tabulated)\n",
    "1. **Status: <font color=\"green\">COMPLETE</font>** [EOS_get_key.cc](#EOS_get_key)\n",
    "1. **Status: <font color=\"orange\">PENDING</font>** [EOS_headers.hh](#EOS_headers)\n",
    "1. **Status: <font color=\"green\">COMPLETE</font>** [EOS_initialize_parameters.cc](#EOS_initialize_parameters)"
   ]
  },
  {
   "cell_type": "markdown",
   "metadata": {},
   "source": [
    "<a id=A_i_rhs_no_gauge_terms></a>\n",
    "## A_i_rhs_no_gauge_terms.C \\[Back to [top](#toc)\\]\n",
    "\n",
    "Modifications: **<font color=\"green\">None</font>**"
   ]
  },
  {
   "cell_type": "markdown",
   "metadata": {},
   "source": [
    "<a id=IllinoisGRMHD_headers></a>\n",
    "## IllinoisGRMHD_headers.h \\[Back to [top](#toc)\\]\n",
    "\n",
    "Modifications:"
   ]
  },
  {
   "cell_type": "markdown",
   "metadata": {},
   "source": [
    "<a id=InitSymBound></a>\n",
    "## InitSymBound.C \\[Back to [top](#toc)\\]\n",
    "\n",
    "Modifications: **<font color=\"green\">None</font>**"
   ]
  },
  {
   "cell_type": "markdown",
   "metadata": {},
   "source": [
    "<a id=Lorenz_psi6phi_rhs__add_gauge_terms_to_A_i_rhs></a>\n",
    "\n",
    "## Lorenz_psi6phi_rhs__add_gauge_terms_to_A_i_rhs.C \\[Back to [top](#toc)\\]\n",
    "\n",
    "Modifications: **<font color=\"green\">None</font>**"
   ]
  },
  {
   "cell_type": "markdown",
   "metadata": {},
   "source": [
    "<a id=MoL_registration></a>\n",
    "\n",
    "## MoL_registration.C \\[Back to [top](#toc)\\]\n",
    "\n",
    "Modifications: **<font color=\"green\">None</font>**"
   ]
  },
  {
   "cell_type": "markdown",
   "metadata": {},
   "source": [
    "<a id=add_fluxes_and_source_terms_to_hydro_rhss></a>\n",
    "\n",
    "## add_fluxes_and_source_terms_to_hydro_rhss.C \\[Back to [top](#toc)\\]\n",
    "\n",
    "Modifications:"
   ]
  },
  {
   "cell_type": "markdown",
   "metadata": {},
   "source": [
    "<a id=apply_tau_floor__enforce_limits_on_primitives_and_recompute_conservs></a>\n",
    "\n",
    "## apply_tau_floor__enforce_limits_on_primitives_and_recompute_conservs.C \\[Back to [top](#toc)\\]\n",
    "\n",
    "Modifications:"
   ]
  },
  {
   "cell_type": "markdown",
   "metadata": {},
   "source": [
    "<a id=compute_B_and_Bstagger_from_A></a>\n",
    "\n",
    "## compute_B_and_Bstagger_from_A.C \\[Back to [top](#toc)\\]\n",
    "\n",
    "Modifications: **<font color=\"green\">None</font>**"
   ]
  },
  {
   "cell_type": "markdown",
   "metadata": {},
   "source": [
    "<a id=compute_tau_rhs_extrinsic_curvature_terms_and_TUPmunu></a>\n",
    "\n",
    "## compute_tau_rhs_extrinsic_curvature_terms_and_TUPmunu.C \\[Back to [top](#toc)\\]\n",
    "\n",
    "Modifications:"
   ]
  },
  {
   "cell_type": "markdown",
   "metadata": {},
   "source": [
    "<a id=convert_ADM_to_BSSN__enforce_detgtij_eq_1__and_compute_gtupij></a>\n",
    "\n",
    "## convert_ADM_to_BSSN__enforce_detgtij_eq_1__and_compute_gtupij.C \\[Back to [top](#toc)\\]\n",
    "\n",
    "Modifications: **<font color=\"green\">None</font>**"
   ]
  },
  {
   "cell_type": "markdown",
   "metadata": {},
   "source": [
    "<a id=driver_conserv_to_prims></a>\n",
    "\n",
    "## driver_conserv_to_prims.C \\[Back to [top](#toc)\\]\n",
    "\n",
    "Modifications:"
   ]
  },
  {
   "cell_type": "markdown",
   "metadata": {},
   "source": [
    "<a id=driver_evaluate_MHD_rhs></a>\n",
    "\n",
    "## driver_evaluate_MHD_rhs.C \\[Back to [top](#toc)\\]\n",
    "\n",
    "Modifications:"
   ]
  },
  {
   "cell_type": "markdown",
   "metadata": {},
   "source": [
    "<a id=driver_evaluate_MHD_rhs></a>\n",
    "\n",
    "## driver_evaluate_MHD_rhs.h \\[Back to [top](#toc)\\]\n",
    "\n",
    "Modifications:"
   ]
  },
  {
   "cell_type": "markdown",
   "metadata": {},
   "source": [
    "<a id=eigen></a>\n",
    "\n",
    "## eigen.C \\[Back to [top](#toc)\\]\n",
    "\n",
    "Modifications: **<font color=\"green\">None</font>**"
   ]
  },
  {
   "cell_type": "markdown",
   "metadata": {},
   "source": [
    "<a id=font_fix_hybrid_EOS></a>\n",
    "\n",
    "## font_fix_hybrid_EOS.C \\[Back to [top](#toc)\\]\n",
    "\n",
    "Modifications:"
   ]
  },
  {
   "cell_type": "markdown",
   "metadata": {},
   "source": [
    "<a id=harm_primitives_headers></a>\n",
    "\n",
    "## harm_primitives_headers.h \\[Back to [top](#toc)\\]\n",
    "\n",
    "Modifications:"
   ]
  },
  {
   "cell_type": "markdown",
   "metadata": {},
   "source": [
    "<a id=harm_primitives_lowlevel></a>\n",
    "\n",
    "## harm_primitives_lowlevel.C \\[Back to [top](#toc)\\]\n",
    "\n",
    "Modifications:"
   ]
  },
  {
   "cell_type": "markdown",
   "metadata": {},
   "source": [
    "<a id=harm_u2p_util></a>\n",
    "\n",
    "## harm_u2p_util.c \\[Back to [top](#toc)\\]\n",
    "\n",
    "Modifications:"
   ]
  },
  {
   "cell_type": "markdown",
   "metadata": {},
   "source": [
    "<a id=harm_utoprim_2d></a>\n",
    "\n",
    "## harm_utoprim_2d.c \\[Back to [top](#toc)\\]\n",
    "\n",
    "Modifications:"
   ]
  },
  {
   "cell_type": "markdown",
   "metadata": {},
   "source": [
    "<a id=inlined_functions></a>\n",
    "\n",
    "## inlined_functions.C \\[Back to [top](#toc)\\]\n",
    "\n",
    "Modifications:"
   ]
  },
  {
   "cell_type": "markdown",
   "metadata": {},
   "source": [
    "<a id=loop_defines_reconstruction></a>\n",
    "\n",
    "## loop_defines_reconstruction.h \\[Back to [top](#toc)\\]\n",
    "\n",
    "Modifications: **<font color=\"green\">None</font>**"
   ]
  },
  {
   "cell_type": "markdown",
   "metadata": {},
   "source": [
    "<a id=make.code.defn></a>\n",
    "\n",
    "## make.code.defn \\[Back to [top](#toc)\\]\n",
    "\n",
    "Modifications:"
   ]
  },
  {
   "cell_type": "markdown",
   "metadata": {},
   "source": [
    "<a id=mhdflux></a>\n",
    "\n",
    "## mhdflux.C \\[Back to [top](#toc)\\]\n",
    "\n",
    "Modifications:"
   ]
  },
  {
   "cell_type": "markdown",
   "metadata": {},
   "source": [
    "<a id=outer_boundaries></a>\n",
    "\n",
    "## outer_boundaries.C \\[Back to [top](#toc)\\]\n",
    "\n",
    "Modifications:"
   ]
  },
  {
   "cell_type": "markdown",
   "metadata": {},
   "source": [
    "<a id=postpostinitial__set_symmetries__copy_timelevels></a>\n",
    "\n",
    "## postpostinitial__set_symmetries__copy_timelevels.C \\[Back to [top](#toc)\\]\n",
    "\n",
    "Modifications:"
   ]
  },
  {
   "cell_type": "markdown",
   "metadata": {},
   "source": [
    "<a id=reconstruct_set_of_prims_PPM></a>\n",
    "\n",
    "## reconstruct_set_of_prims_PPM.C \\[Back to [top](#toc)\\]\n",
    "\n",
    "Modifications:"
   ]
  },
  {
   "cell_type": "markdown",
   "metadata": {},
   "source": [
    "<a id=standalone_conserv_to_prims_main_function></a>\n",
    "\n",
    "## standalone_conserv_to_prims_main_function.h \\[Back to [top](#toc)\\]\n",
    "\n",
    "Modifications:"
   ]
  },
  {
   "cell_type": "markdown",
   "metadata": {},
   "source": [
    "<a id=symmetry__set_gzs_staggered_gfs></a>\n",
    "\n",
    "## symmetry__set_gzs_staggered_gfs.C \\[Back to [top](#toc)\\]\n",
    "\n",
    "Modifications:"
   ]
  },
  {
   "cell_type": "markdown",
   "metadata": {},
   "source": [
    "<a id=EOS_Hybrid></a>\n",
    "## EOS_Hybrid.cc \\[Back to [top](#toc)\\]\n",
    "\n",
    "Modifications:\n",
    "\n",
    "1. Renamed file: used to be **IllinoisGRMHD_EoS_lowlevel_functs.C**\n",
    "1. Converted file from a \"header\" to a compiled source code (added to **make.code.defn**)\n",
    "1. Functions no longer static.\n",
    "1. Functions no longer inlined.\n",
    "1. Renamed **eos_struct** to **igm_eos_parameters**.\n",
    "1. Renamed function **initialize_EOS_struct_from_input** to **initialize_Hybrid_EOS_parameters_from_input**"
   ]
  },
  {
   "cell_type": "markdown",
   "metadata": {},
   "source": [
    "<a id=EOS_Tabulated></a>\n",
    "## EOS_Tabulated.cc \\[Back to [top](#toc)\\]\n",
    "\n",
    "New file containing:\n",
    "\n",
    "1. New function to initialize the eos parameters for the tabulated EOS case (**initialize_Tabulated_EOS_parameters_from_input**)\n",
    "1. New wrapper to `EOS_Omni` function, which computes $P(\\rho,Y_{\\rm e},T)$ and $\\epsilon(\\rho,Y_{\\rm e},T)$ (**get_P_and_eps_from_rho_Ye_and_T**).\n",
    "1. New wrapper to `EOS_Omni` function, which computes $P(\\rho,Y_{\\rm e},T)$, $\\epsilon(\\rho,Y_{\\rm e},T)$, and $S(\\rho,Y_{\\rm e},T)$ (**get_P_eps_and_S_from_rho_Ye_and_T**)."
   ]
  },
  {
   "cell_type": "markdown",
   "metadata": {},
   "source": [
    "<a id=EOS_get_key></a>\n",
    "## EOS_get_key.cc \\[Back to [top](#toc)\\]\n",
    "\n",
    "New file contaning:\n",
    "\n",
    "1. A new function, **IllinoisGRMHD_EOS_get_key**, passed to the ETK scheduler at `STARTUP` after `EOS_Omni` is initialized, determining the EOS \"key\" (an integer), which is later used to select the appropriate function call within the code."
   ]
  },
  {
   "cell_type": "markdown",
   "metadata": {},
   "source": [
    "<a id=EOS_headers></a>\n",
    "## EOS_headers.hh \\[Back to [top](#toc)\\]\n",
    "\n",
    "New file containing:"
   ]
  },
  {
   "cell_type": "markdown",
   "metadata": {},
   "source": [
    "<a id=EOS_initialize_parameters></a>\n",
    "## EOS_initialize_parameters.cc \\[Back to [top](#toc)\\]\n",
    "\n",
    "New file contaning:\n",
    "1. A new wrapper function, **initialize_igm_eos_parameters_from_input**, which replaces the old **initialize_EOS_struct_from_input** function. The new wrapper gets as an input the EOS key, and the same function call is therefore valid for all the EOS that `IllinoisGRMHD` supports."
   ]
  }
 ],
 "metadata": {
  "kernelspec": {
   "display_name": "py39",
   "language": "python",
   "name": "py39"
  },
  "language_info": {
   "codemirror_mode": {
    "name": "ipython",
    "version": 3
   },
   "file_extension": ".py",
   "mimetype": "text/x-python",
   "name": "python",
   "nbconvert_exporter": "python",
   "pygments_lexer": "ipython3",
   "version": "3.9.1"
  }
 },
 "nbformat": 4,
 "nbformat_minor": 4
}
