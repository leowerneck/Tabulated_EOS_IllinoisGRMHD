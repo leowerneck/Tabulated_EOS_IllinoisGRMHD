{
 "cells": [
  {
   "cell_type": "markdown",
   "id": "d871c14b",
   "metadata": {},
   "source": [
    "# `IsotropicGasID`: An Einstein Toolkit Initial Data Thorn for isotripic gas initial data\n",
    "## Author: Leo Werneck\n",
    "### Formatting improvements courtesy Brandon Clark\n",
    "\n",
    "**Notebook Status:** <font color='red'><b> In progress </b></font>"
   ]
  },
  {
   "cell_type": "markdown",
   "id": "7ac4acdc",
   "metadata": {},
   "source": [
    "<a id='toc'></a>\n",
    "\n",
    "# Table of Contents\n",
    "$$\\label{toc}$$ \n",
    "\n",
    "This notebook is organized as follows\n",
    "\n",
    "1. [Step 1](#initialize_nrpy): Initialize core NRPy+/Python modules\n",
    "\n",
    "1. [Step 3](#latex_pdf_output): Output this notebook to $\\LaTeX$-formatted PDF file"
   ]
  },
  {
   "cell_type": "markdown",
   "id": "197c1a71",
   "metadata": {},
   "source": [
    "<a id='initialize_nrpy'></a>\n",
    "\n",
    "# Step 1: Initialize core NRPy+/Python modules \\[Back to [top](#toc)\\]\n",
    "$$\\label{initialize_nrpy}$$\n",
    "\n",
    "Let us start by loading the core NRPy+ and Python modules that we will need to write down our C code."
   ]
  },
  {
   "cell_type": "code",
   "execution_count": 1,
   "id": "c0ce4c1a",
   "metadata": {},
   "outputs": [],
   "source": [
    "# Step 1: Initialize core NRPy+ and Python modules\n",
    "import os,sys,shutil           # Standard Python modules for multiplatform OS-level functions\n",
    "import sympy as sp             # SymPy: Symbolic algebra package for Python (NRPy+'s backbone)\n",
    "sys.path.append(os.path.join(\"nrpy_core\"))\n",
    "import outputC as outC         # NRPy+: Core C output functions\n",
    "import NRPy_param_funcs as par # NRPy+: Parameter interface\n",
    "import cmdline_helper as cmd   # NRPy+: Multi-platform Python command-line interface\n",
    "import grid as gri             # NRPy+: Numerical grids interface\n",
    "import indexedexp as ixp       # NRPy+: Indexed expression support\n",
    "\n",
    "# Step 1.a: Set thorn name\n",
    "ThornName = \"IsotropicGasID\"\n",
    "\n",
    "# Step 1.b: Create the thorn directory\n",
    "Thorndir = os.path.join(ThornName)\n",
    "if os.path.exists(Thorndir):\n",
    "    shutil.rmtree(Thorndir)\n",
    "cmd.mkdir(Thorndir)\n",
    "\n",
    "# Step 1.c: Create the source code directory\n",
    "Srcdir = os.path.join(Thorndir,\"src\")\n",
    "cmd.mkdir(Srcdir)\n",
    "\n",
    "# Step 1.d: Set precision of the code to CCTK_REAL\n",
    "par.set_parval_from_str(\"outputC::PRECISION\",\"CCTK_REAL\")\n",
    "\n",
    "# Step 1.e: Set gridfunction memory access to ETK\n",
    "par.set_parval_from_str(\"grid::GridFuncMemAccess\",\"ETK\")"
   ]
  },
  {
   "cell_type": "markdown",
   "id": "1a696219",
   "metadata": {},
   "source": [
    "<a id='id_symbolic'></a>\n",
    "\n",
    "# Step 2: Symbolic expressions for the initial data \\[Back to [top](#toc)\\]\n",
    "$$\\label{id_symbolic}$$\n",
    "\n",
    "We now generate symbolic expressions for the spacetime and hydrodynamics initial data:\n",
    "\n",
    "$$\n",
    "\\newcommand{\\rhob}{\\rho_{\\rm b}}\n",
    "\\newcommand{\\ye}{Y_{\\rm e}}\n",
    "\\begin{aligned}\n",
    "\\alpha = 0,\\ \\beta^{i} = 0&,\\ \\gamma_{ij} = \\delta_{ij},\\ k_{ij} = 0\\\\\n",
    "\\rhob = \\left(\\rhob\\right)_{\\rm input},\\ \\ye &= \\left(\\ye\\right)_{\\rm input},\\ T = T_{\\rm input},\\\\\n",
    "v^{i} = 0&,\\ B^{i} = 0.\n",
    "\\end{aligned}\n",
    "$$\n",
    "\n",
    "To make it easier for users to adopt this thorn, we allow for *any* spacetime/hydrodynamics gridfunctions within the Einstein Toolkit to be used."
   ]
  },
  {
   "cell_type": "code",
   "execution_count": 2,
   "id": "b1327d01",
   "metadata": {},
   "outputs": [],
   "source": [
    "# Step 2: Symbolic expressions for the initial data\n",
    "# Step 2.a: Declare basic constants\n",
    "zero = sp.sympify(0)\n",
    "one  = sp.sympify(1)\n",
    "\n",
    "# Step 2.b: Initialize list of gridfunctions & expressions\n",
    "vars_list = []\n",
    "expr_list = []\n",
    "\n",
    "# Step 2.c: Thorn ID parameters\n",
    "ID_Ye,ID_rhob,ID_T = par.Cparameters(\"REAL\",ThornName,\n",
    "                                     [ThornName+\"_Ye\",ThornName+\"_rho\",ThornName+\"_T\"],\n",
    "                                     [     \"-1\"      ,      \"-1\"      ,     \"-1\"     ])\n",
    "\n",
    "# Step 2.c: Symbolic expressions for the ID\n",
    "vars_list.extend([\"alpha\",  \"Ye\", \"rhob\", \"T\"])\n",
    "expr_list.extend([  one  ,ID_Ye,ID_rhob,ID_T])\n",
    "for i in range(3):\n",
    "    vars_list.append(\"beta\"+chr(ord('x')+i))\n",
    "    expr_list.append(zero)\n",
    "    vars_list.append(\"v\"+chr(ord('x')+i))\n",
    "    expr_list.append(zero)\n",
    "    vars_list.append(\"B\"+chr(ord('x')+i))\n",
    "    expr_list.append(zero)\n",
    "    for j in range(i,3):\n",
    "        vars_list.append(\"g\"+chr(ord('x')+i)+chr(ord('x')+j))\n",
    "        if j==i:\n",
    "            expr_list.append(one)\n",
    "        else:\n",
    "            expr_list.append(zero)\n",
    "        vars_list.append(\"k\"+chr(ord('x')+i)+chr(ord('x')+j))\n",
    "        expr_list.append(zero)\n",
    "\n",
    "# Step 2.d: Sort the lists\n",
    "vars_list,expr_list = [list(x) for x in zip(*sorted(zip(vars_list,expr_list), key=lambda pair: pair[0]))]\n",
    "\n",
    "# Step 2.e: Generate the ID & gf pointer strings\n",
    "N = len(vars_list)\n",
    "ID_string = \"\"\n",
    "GF_pointers_string = \"\"\n",
    "indent = \"        \"\n",
    "for n in range(N):\n",
    "    gf    = vars_list[n]\n",
    "    value = expr_list[n]\n",
    "    ID_string += indent+\"ID_\"+gf+\"[idx] = \"+str(value)+\";\\n\"\n",
    "    GF_pointers_string += \"\"\"\n",
    "CCTK_REAL *ID_\"\"\"+gf+\" = (CCTK_REAL *)(CCTK_VarDataPtr(cctkGH,timelevel,\"ThornName+\"_\"+gf+\"\"\"))\n",
    "if( !ID_\"\"\"+gf+r\"\"\" ) CCTK_VError (__LINE__, __FILE__, CCTK_THORNSTRING, \"Couldn't get data pointer of input array variable '%s'\", HamiltonianVarString);\"\"\"\n",
    "\n",
    "# Step 2.f: Get gridfunction pointers string\n",
    "\n",
    "for n in range(N):\n",
    "    GF_pointers_string += \"\"\"\n",
    "\n",
    "#CCTK_REAL* H_gf   = (CCTK_REAL*)(CCTK_VarDataPtr(cctkGH,timelevel, HamiltonianVarString));\n",
    "#if(  !H_gf  ) CCTK_VError (__LINE__, __FILE__, CCTK_THORNSTRING, \"Couldn't get data pointer of input array variable '%s'\", HamiltonianVarString);"
   ]
  },
  {
   "cell_type": "markdown",
   "id": "14bc1264",
   "metadata": {},
   "source": [
    "<a id='function_registration'></a>\n",
    "\n",
    "# Step 3: Function registration \\[Back to [top](#toc)\\]\n",
    "$$\\label{function_registration}$$\n",
    "\n",
    "We now start writing the `IsotropicGasID`. We follow [Murguia-Berthier *et al.* (2021)](https://arxiv.org/pdf/2106.05356.pdf) and set up an initial condition for a gas with constant density $\\rho$, constant temperature $T$, constant electron fraction $Y_{\\rm e}$, and initialize the spacetime to [Minkowski space](https://en.wikipedia.org/wiki/Minkowski_space)."
   ]
  },
  {
   "cell_type": "markdown",
   "id": "28cc5aa5",
   "metadata": {},
   "source": [
    "<a id='driver_function'></a>\n",
    "\n",
    "## Step 3.a:  `IsotropicGasID` - the thorn's driver function \\[Back to [top](#toc)\\]\n",
    "$$\\label{driver_function}$$\n",
    "\n",
    "Below we implement the thorn's driver function, `IsotropicGasID`, which is responsible for setting up the desired initial data."
   ]
  },
  {
   "cell_type": "code",
   "execution_count": 9,
   "id": "704a7b0a",
   "metadata": {},
   "outputs": [],
   "source": [
    "def add_to_Cfunction_dict__IsotropicGasID():\n",
    "    desc = \"\"\"\n",
    "(c) 2021 Leo Werneck\n",
    "\n",
    "This is the thorn's driver function, responsible\n",
    "for setting the initial data to that of an isotropic\n",
    "gas of constant density, temperature, and electron\n",
    "fraction in Minkowski space.\n",
    "\"\"\"\n",
    "    includes = [\"cctk.h\",\"cctk_Arguments.h\",\"cctk_Parameters.h\"]\n",
    "    prefunc  = \"\"\n",
    "    c_type   = \"void\"\n",
    "    name     = \"IsotropicGasID\"\n",
    "    params   = \"CCTK_ARGUMENTS\"\n",
    "    body     = r\"\"\"\n",
    "  // Step 1: Get access to gridfunctions and parameters\n",
    "  DECLARE_CCTK_ARGUMENTS;\n",
    "  DECLARE_CCTK_PARAMETERS;\n",
    "\n",
    "  // Step 3: Loop over the grid and set the ID\n",
    "#pragma omp parallel for\n",
    "  for(int k=0;k<cctk_lsh[2];k++) {\n",
    "    for(int j=0;j<cctk_lsh[1];j++) {\n",
    "      for(int i=0;i<cctk_lsh[0];i++) {\n",
    "      \n",
    "        const int idx = CCTK_GFINDEX3D(cctkGH,i,j,k);\n",
    "\n",
    "\"\"\"+ID_string+\"\"\"\n",
    "      }\n",
    "    }\n",
    "  }\n",
    "\"\"\"\n",
    "    loopopts = \"\"\n",
    "    outC.outCfunction(os.path.join(Srcdir,name+\".c\"),\n",
    "                      includes=includes,prefunc=prefunc,desc=desc,c_type=c_type,\n",
    "                      name=name,params=params,body=body,enableCparameters=False)\n",
    "#     outC.add_to_Cfunction_dict(includes=includes,prefunc=prefunc,desc=desc,c_type=c_type,\n",
    "#                                name=name,params=params,body=body,enableCparameters=False)"
   ]
  },
  {
   "cell_type": "markdown",
   "id": "eab68bdb",
   "metadata": {},
   "source": [
    "<a id='latex_pdf_output'></a>\n",
    "\n",
    "# Step n: Output this notebook to $\\LaTeX$-formatted PDF file \\[Back to [top](#toc)\\]\n",
    "$$\\label{latex_pdf_output}$$\n",
    "\n",
    "The following code cell converts this Jupyter notebook into a proper, clickable $\\LaTeX$-formatted PDF file. After the cell is successfully run, the generated PDF may be found in the root NRPy+ tutorial directory, with filename\n",
    "[Tutorial-Tutorial-ETK_thorn-IsotropicGasID.pdf](Tutorial-Tutorial-ETK_thorn-IsotropicGasID.pdf) (Note that clicking on this link may not work; you may need to open the PDF file through another means.)"
   ]
  },
  {
   "cell_type": "code",
   "execution_count": 5,
   "id": "aa45e361",
   "metadata": {},
   "outputs": [
    {
     "name": "stdout",
     "output_type": "stream",
     "text": [
      "Created Tutorial-Tutorial-ETK_thorn-IsotropicGasID.tex, and compiled LaTeX\n",
      "    file to PDF file Tutorial-Tutorial-ETK_thorn-IsotropicGasID.pdf\n"
     ]
    }
   ],
   "source": [
    "cmd.output_Jupyter_notebook_to_LaTeXed_PDF(\"Tutorial-Tutorial-ETK_thorn-IsotropicGasID\")"
   ]
  }
 ],
 "metadata": {
  "kernelspec": {
   "display_name": "Python 3 (ipykernel)",
   "language": "python",
   "name": "python3"
  },
  "language_info": {
   "codemirror_mode": {
    "name": "ipython",
    "version": 3
   },
   "file_extension": ".py",
   "mimetype": "text/x-python",
   "name": "python",
   "nbconvert_exporter": "python",
   "pygments_lexer": "ipython3",
   "version": "3.9.2"
  }
 },
 "nbformat": 4,
 "nbformat_minor": 5
}
