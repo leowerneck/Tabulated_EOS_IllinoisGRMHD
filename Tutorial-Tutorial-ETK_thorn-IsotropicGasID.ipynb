{
 "cells": [
  {
   "cell_type": "markdown",
   "id": "d871c14b",
   "metadata": {},
   "source": [
    "# `IsotropicGasID`: An Einstein Toolkit Initial Data Thorn for isotripic gas initial data\n",
    "## Author: Leo Werneck\n",
    "### Formatting improvements courtesy Brandon Clark\n",
    "\n",
    "**Notebook Status:** <font color='red'><b> In progress </b></font>"
   ]
  },
  {
   "cell_type": "markdown",
   "id": "7ac4acdc",
   "metadata": {},
   "source": [
    "<a id='toc'></a>\n",
    "\n",
    "# Table of Contents\n",
    "$$\\label{toc}$$ \n",
    "\n",
    "This notebook is organized as follows\n",
    "\n",
    "1. [Step 1](#initialize_nrpy): Initialize core NRPy+/Python modules\n",
    "\n",
    "1. [Step 3](#latex_pdf_output): Output this notebook to $\\LaTeX$-formatted PDF file"
   ]
  },
  {
   "cell_type": "markdown",
   "id": "197c1a71",
   "metadata": {},
   "source": [
    "<a id='initialize_nrpy'></a>\n",
    "\n",
    "# Step 1: Initialize core NRPy+/Python modules \\[Back to [top](#toc)\\]\n",
    "$$\\label{initialize_nrpy}$$\n",
    "\n",
    "Let us start by loading the core NRPy+ and Python modules that we will need to write down our C code."
   ]
  },
  {
   "cell_type": "code",
   "execution_count": 1,
   "id": "c0ce4c1a",
   "metadata": {},
   "outputs": [],
   "source": [
    "# Step 1: Initialize core NRPy+ and Python modules\n",
    "import os,sys,shutil           # Standard Python modules for multiplatform OS-level functions\n",
    "import sympy as sp             # SymPy: Symbolic algebra package for Python (NRPy+'s backbone)\n",
    "sys.path.append(os.path.join(\"nrpy_core\"))\n",
    "import outputC as outC         # NRPy+: Core C output functions\n",
    "import NRPy_param_funcs as par # NRPy+: Parameter interface\n",
    "import cmdline_helper as cmd   # NRPy+: Multi-platform Python command-line interface\n",
    "import grid as gri             # NRPy+: Numerical grids interface\n",
    "import indexedexp as ixp       # NRPy+: Indexed expression support\n",
    "\n",
    "# Step 1.a: Set thorn name\n",
    "ThornName = \"IsotropicGasID\"\n",
    "\n",
    "# Step 1.b: Create the thorn directory\n",
    "Thorndir = os.path.join(ThornName)\n",
    "if os.path.exists(Thorndir):\n",
    "    shutil.rmtree(Thorndir)\n",
    "cmd.mkdir(Thorndir)\n",
    "\n",
    "# Step 1.c: Create the source code directory\n",
    "Srcdir = os.path.join(Thorndir,\"src\")\n",
    "cmd.mkdir(Srcdir)\n",
    "\n",
    "# Step 1.d: Set precision of the code to CCTK_REAL\n",
    "par.set_parval_from_str(\"outputC::PRECISION\",\"CCTK_REAL\")\n",
    "\n",
    "# Step 1.e: Set gridfunction memory access to ETK\n",
    "par.set_parval_from_str(\"grid::GridFuncMemAccess\",\"ETK\")"
   ]
  },
  {
   "cell_type": "markdown",
   "id": "1a696219",
   "metadata": {},
   "source": [
    "<a id='id_symbolic'></a>\n",
    "\n",
    "# Step 2: Symbolic expressions for the initial data \\[Back to [top](#toc)\\]\n",
    "$$\\label{id_symbolic}$$\n",
    "\n",
    "We now generate symbolic expressions for the spacetime and hydrodynamics initial data:\n",
    "\n",
    "$$\n",
    "\\newcommand{\\rhob}{\\rho_{\\rm b}}\n",
    "\\newcommand{\\ye}{Y_{\\rm e}}\n",
    "\\begin{aligned}\n",
    "\\alpha = 0,\\ \\beta^{i} = 0&,\\ \\gamma_{ij} = \\delta_{ij},\\ k_{ij} = 0\\\\\n",
    "\\rhob = \\left(\\rhob\\right)_{\\rm input},\\ \\ye &= \\left(\\ye\\right)_{\\rm input},\\ T = T_{\\rm input},\\\\\n",
    "v^{i} = 0&,\\ B^{i} = 0.\n",
    "\\end{aligned}\n",
    "$$\n",
    "\n",
    "To make it easier for users to adopt this thorn, we allow for *any* spacetime/hydrodynamics gridfunctions within the Einstein Toolkit to be used."
   ]
  },
  {
   "cell_type": "code",
   "execution_count": 2,
   "id": "b1327d01",
   "metadata": {},
   "outputs": [],
   "source": [
    "# Step 2: Symbolic expressions for the initial data\n",
    "# Step 2.a: Declare basic constants\n",
    "zero = sp.sympify(0)\n",
    "one  = sp.sympify(1)\n",
    "\n",
    "# Step 2.b: Initialize list of gridfunctions & expressions\n",
    "vars_list = []\n",
    "expr_list = []\n",
    "\n",
    "# Step 2.c: Thorn ID parameters\n",
    "ID_Ye,ID_rhob,ID_T = par.Cparameters(\"REAL\",ThornName,\n",
    "                                     [ThornName+\"_Y_e\",ThornName+\"_rho\",ThornName+\"_temperature\"],\n",
    "                                     [     \"-1\"      ,      \"-1\"      ,     \"-1\"     ])\n",
    "\n",
    "# Step 2.c: Symbolic expressions for the ID\n",
    "vars_list.extend([\"alp\",  \"Y_e\", \"rho\", \"temperature\", \"press\", \"eps\"])\n",
    "expr_list.extend([  one  ,ID_Ye,ID_rhob,ID_T,\"IsotropicGasID_press\",\"IsotropicGasID_eps\"])\n",
    "for i in range(3):\n",
    "    vars_list.append(\"beta\"+chr(ord('x')+i))\n",
    "    expr_list.append(zero)\n",
    "    vars_list.append(\"vel\"+chr(ord('x')+i))\n",
    "    expr_list.append(zero)\n",
    "    for j in range(i,3):\n",
    "        vars_list.append(\"g\"+chr(ord('x')+i)+chr(ord('x')+j))\n",
    "        if j==i:\n",
    "            expr_list.append(one)\n",
    "        else:\n",
    "            expr_list.append(zero)\n",
    "        vars_list.append(\"k\"+chr(ord('x')+i)+chr(ord('x')+j))\n",
    "        expr_list.append(zero)\n",
    "\n",
    "# Step 2.d: Sort the lists\n",
    "vars_list,expr_list = [list(x) for x in zip(*sorted(zip(vars_list,expr_list), key=lambda pair: pair[0]))]\n",
    "\n",
    "# Step 2.e: Generate the ID & gf pointer strings\n",
    "N = len(vars_list)\n",
    "ID_string = \"\"\n",
    "GF_pointers_string = \"\"\n",
    "indent = \"        \"\n",
    "for n in range(N):\n",
    "    gf    = vars_list[n]\n",
    "    value = expr_list[n]\n",
    "    ID_string += indent+gf+\"[idx] = \"+str(value)+\";\\n\""
   ]
  },
  {
   "cell_type": "markdown",
   "id": "28cc5aa5",
   "metadata": {},
   "source": [
    "<a id='driver_function'></a>\n",
    "\n",
    "# Step 3:  `IsotropicGasID` - the thorn's driver function \\[Back to [top](#toc)\\]\n",
    "$$\\label{driver_function}$$\n",
    "\n",
    "Below we implement the thorn's driver function, `IsotropicGasID`, which is responsible for setting up the desired initial data."
   ]
  },
  {
   "cell_type": "code",
   "execution_count": 3,
   "id": "704a7b0a",
   "metadata": {},
   "outputs": [],
   "source": [
    "def add_to_Cfunction_dict__IsotropicGasID():\n",
    "    desc = \"\"\"\n",
    "(c) 2021 Leo Werneck\n",
    "\n",
    "This is the thorn's driver function, responsible\n",
    "for setting the initial data to that of an isotropic\n",
    "gas of constant density, temperature, and electron\n",
    "fraction in Minkowski space.\n",
    "\"\"\"\n",
    "    includes = [\"cctk.h\",\"cctk_Arguments.h\",\"cctk_Parameters.h\"]\n",
    "    prefunc  = \"\"\"\n",
    "#define velx (&vel[0*cctk_lsh[0]*cctk_lsh[1]*cctk_lsh[2]])\n",
    "#define vely (&vel[1*cctk_lsh[0]*cctk_lsh[1]*cctk_lsh[2]])\n",
    "#define velz (&vel[2*cctk_lsh[0]*cctk_lsh[1]*cctk_lsh[2]])\n",
    "\"\"\"\n",
    "    c_type   = \"void\"\n",
    "    name     = \"IsotropicGasID\"\n",
    "    params   = \"CCTK_ARGUMENTS\"\n",
    "    body     = r\"\"\"\n",
    "  // Step 1: Get access to gridfunctions and parameters\n",
    "  DECLARE_CCTK_ARGUMENTS;\n",
    "  DECLARE_CCTK_PARAMETERS;\n",
    "\n",
    "  // Step 2: Compute local pressure and epsilon\n",
    "  CCTK_REAL IsotropicGasID_press, IsotropicGasID_eps;\n",
    "  WVU_EOS_P_and_eps_from_rho_Ye_T( IsotropicGasID_rho,\n",
    "                                   IsotropicGasID_Y_e,\n",
    "                                   IsotropicGasID_temperature,\n",
    "                                  &IsotropicGasID_press,\n",
    "                                  &IsotropicGasID_eps );\n",
    "\n",
    "  // Step 3: Loop over the grid and set the ID\n",
    "#pragma omp parallel for\n",
    "  for(int k=0;k<cctk_lsh[2];k++) {\n",
    "    for(int j=0;j<cctk_lsh[1];j++) {\n",
    "      for(int i=0;i<cctk_lsh[0];i++) {\n",
    "      \n",
    "        const int idx = CCTK_GFINDEX3D(cctkGH,i,j,k);\n",
    "\n",
    "\"\"\"+ID_string+\"\"\"\n",
    "\n",
    "      }\n",
    "    }\n",
    "  }\n",
    "\"\"\"\n",
    "    loopopts = \"\"\n",
    "    outC.outCfunction(os.path.join(Srcdir,name+\".c\"),\n",
    "                      includes=includes,prefunc=prefunc,desc=desc,c_type=c_type,\n",
    "                      name=name,params=params,body=body,enableCparameters=False)\n",
    "#     outC.add_to_Cfunction_dict(includes=includes,prefunc=prefunc,desc=desc,c_type=c_type,\n",
    "#                                name=name,params=params,body=body,enableCparameters=False)"
   ]
  },
  {
   "cell_type": "markdown",
   "id": "c6054f7f",
   "metadata": {},
   "source": [
    "<a id='configuration_files'></a>\n",
    "\n",
    "# Step 4: Thorn configuration files \\[Back to [top](#toc)\\]\n",
    "$$\\label{configuration_files}$$\n",
    "\n",
    "We now generate all the configuration files required by our thorn. These are:\n",
    "1. `interface.ccl`: contains information about how the thorn interfaces with the rest of the toolkit;\n",
    "1. `param.ccl`: contains all the parameters defined by this thorn;\n",
    "1. `schedule.ccl`: specifies when the functions in these thorn are called by the scheduler;\n",
    "4. `make.code.defn`: specifies which files need to be compiled."
   ]
  },
  {
   "cell_type": "markdown",
   "id": "f250b58d",
   "metadata": {},
   "source": [
    "<a id='interface_ccl'></a>\n",
    "\n",
    "## Step 4.a: `interface.ccl` \\[Back to [top](#toc)\\]\n",
    "$$\\label{interface_ccl}$$"
   ]
  },
  {
   "cell_type": "code",
   "execution_count": 4,
   "id": "93845612",
   "metadata": {},
   "outputs": [],
   "source": [
    "# Step 4.a: Write the interface.ccl file\n",
    "def generate_interface_ccl():\n",
    "    filepath = os.path.join(Thorndir,\"interface.ccl\")\n",
    "    with open(filepath,\"w\") as file:\n",
    "        file.write(\"# \"+ThornName+\"\"\" interface.ccl file\n",
    "implements: \"\"\"+ThornName+\"\"\"\n",
    "inherits: ADMBase grid HydroBase\n",
    "######################################\n",
    "### Aliased function from WVU_EOS  ###\n",
    "######################################\n",
    "void FUNCTION WVU_EOS_P_and_eps_from_rho_Ye_T( CCTK_REAL IN rho, \\\\\n",
    "                                               CCTK_REAL IN Ye,  \\\\\n",
    "                                               CCTK_REAL IN T,   \\\\\n",
    "                                               CCTK_REAL OUT P,  \\\\\n",
    "                                               CCTK_REAL OUT eps )\n",
    "\n",
    "USES FUNCTION WVU_EOS_P_and_eps_from_rho_Ye_T\\n\"\"\")\n",
    "    print(\"Output interface.ccl file to \"+filepath)"
   ]
  },
  {
   "cell_type": "markdown",
   "id": "b82bbc5b",
   "metadata": {},
   "source": [
    "<a id='param_ccl'></a>\n",
    "\n",
    "## Step 4.b: `param.ccl` \\[Back to [top](#toc)\\]\n",
    "$$\\label{param_ccl}$$"
   ]
  },
  {
   "cell_type": "code",
   "execution_count": 5,
   "id": "7b19f614",
   "metadata": {},
   "outputs": [],
   "source": [
    "# Step 4.b: Write the param.ccl file\n",
    "def generate_param_ccl():\n",
    "    filepath = os.path.join(Thorndir,\"param.ccl\")\n",
    "    params_string = \"# \"+ThornName+\"\"\" param.ccl file\n",
    "shares: grid\n",
    "shares: ADMBase\n",
    "USES CCTK_INT lapse_timelevels\n",
    "USES CCTK_INT shift_timelevels\n",
    "USES CCTK_INT metric_timelevels\n",
    "\n",
    "USES KEYWORD metric_type\n",
    "\n",
    "EXTENDS KEYWORD initial_data\n",
    "{\n",
    "  \\\"\"\"\"+ThornName+\"\"\"\\\" :: \\\"ADMBase initial data\\\"\n",
    "}\n",
    "\n",
    "EXTENDS KEYWORD initial_lapse\n",
    "{\n",
    "  \\\"\"\"\"+ThornName+\"\"\"\\\" :: \\\"Initial lapse\\\"\n",
    "}\n",
    "\n",
    "EXTENDS KEYWORD initial_shift\n",
    "{\n",
    "  \\\"\"\"\"+ThornName+\"\"\"\\\" :: \\\"Initial shift\\\"\n",
    "}\n",
    "\n",
    "shares: HydroBase\n",
    "USES CCTK_INT timelevels\n",
    "\n",
    "EXTENDS KEYWORD initial_hydro\n",
    "{\n",
    "  \\\"\"\"\"+ThornName+\"\"\"\\\" :: \\\"HydroBase initial data\\\"\n",
    "}\n",
    "\n",
    "EXTENDS KEYWORD initial_Y_e\n",
    "{\n",
    "  \\\"\"\"\"+ThornName+\"\"\"\\\" :: \\\"HydroBase initial data\\\"\n",
    "}\n",
    "\n",
    "EXTENDS KEYWORD initial_temperature\n",
    "{\n",
    "  \\\"\"\"\"+ThornName+\"\"\"\\\" :: \\\"HydroBase initial data\\\"\n",
    "}\\n\\n\"\"\"\n",
    "    \n",
    "    for param in par.glb_Cparams_list:\n",
    "        if param.module == ThornName:\n",
    "            params_string += \"restricted:\\n\"\n",
    "            if param.type == 'REAL':\n",
    "                params_string += \"CCTK_REAL \"\n",
    "            elif param.type == 'int':\n",
    "                params_string += \"CCTK_INT \"\n",
    "            params_string += param.parname+\" \\\"\"+param.parname+\"\\\"\\n\"\n",
    "            params_string += \"{\\n  *:* :: \\\"Anything goes\\\"\\n} \"+param.defaultval+\"\\n\\n\"\n",
    "    with open(os.path.join(Thorndir,\"param.ccl\"),\"w\") as file:\n",
    "        file.write(params_string)\n",
    "    print(\"Output param.ccl file to \"+filepath)"
   ]
  },
  {
   "cell_type": "markdown",
   "id": "ee3cc9b8",
   "metadata": {},
   "source": [
    "<a id='schedule_ccl'></a>\n",
    "\n",
    "## Step 4.c: `schedule.ccl` \\[Back to [top](#toc)\\]\n",
    "$$\\label{schedule_ccl}$$"
   ]
  },
  {
   "cell_type": "code",
   "execution_count": 6,
   "id": "aa30bec8",
   "metadata": {},
   "outputs": [],
   "source": [
    "def generate_schedule_ccl():\n",
    "    filepath = os.path.join(Thorndir,\"schedule.ccl\")\n",
    "    with open(filepath,\"w\") as file:\n",
    "        file.write(\"# \"+ThornName+\"\"\" schedule.ccl file\n",
    "    \n",
    "STORAGE: ADMBase::metric[metric_timelevels]\n",
    "STORAGE: ADMBase::curv[metric_timelevels]\n",
    "STORAGE: ADMBase::lapse[lapse_timelevels]\n",
    "STORAGE: ADMBase::shift[shift_timelevels]\n",
    "STORAGE: HydroBase::rho[timelevels]\n",
    "STORAGE: HydroBase::press[timelevels]\n",
    "STORAGE: HydroBase::eps[timelevels]\n",
    "STORAGE: HydroBase::vel[timelevels]\n",
    "STORAGE: HydroBase::Y_e[timelevels]\n",
    "STORAGE: HydroBase::temperature[timelevels]\n",
    "STORAGE: HydroBase::entropy[timelevels]\n",
    "\n",
    "schedule IsotropicGasID IN HydroBase_Initial\n",
    "{\n",
    "  LANG: C\n",
    "  WRITES: ADMBase::alp(Everywhere)\n",
    "  WRITES: ADMBase::betax(Everywhere)\n",
    "  WRITES: ADMBase::betay(Everywhere)\n",
    "  WRITES: ADMBase::betaz(Everywhere)\n",
    "  WRITES: ADMBase::kxx(Everywhere)\n",
    "  WRITES: ADMBase::kxy(Everywhere)\n",
    "  WRITES: ADMBase::kxz(Everywhere)\n",
    "  WRITES: ADMBase::kyy(Everywhere)\n",
    "  WRITES: ADMBase::kyz(Everywhere)\n",
    "  WRITES: ADMBase::kzz(Everywhere)\n",
    "  WRITES: ADMBase::gxx(Everywhere)\n",
    "  WRITES: ADMBase::gxy(Everywhere)\n",
    "  WRITES: ADMBase::gxz(Everywhere)\n",
    "  WRITES: ADMBase::gyy(Everywhere)\n",
    "  WRITES: ADMBase::gyz(Everywhere)\n",
    "  WRITES: ADMBase::gzz(Everywhere)\n",
    "  WRITES: HydroBase::vel[0](Everywhere)\n",
    "  WRITES: HydroBase::vel[1](Everywhere)\n",
    "  WRITES: HydroBase::vel[2](Everywhere)\n",
    "  WRITES: HydroBase::rho(Everywhere)\n",
    "  WRITES: HydroBase::eps(Everywhere)\n",
    "  WRITES: HydroBase::press(Everywhere)\n",
    "  WRITES: HydroBase::Y_e(Everywhere)\n",
    "  WRITES: HydroBase::temperature(Everywhere)\n",
    "} \\\"Set up general relativistic hydrodynamic (GRHD) fields for isotropic gas initial data\\\"\"\"\")\n",
    "    print(\"Output schedule.ccl file to \"+filepath)"
   ]
  },
  {
   "cell_type": "markdown",
   "id": "deb3c45a",
   "metadata": {},
   "source": [
    "<a id='make_code_defn'></a>\n",
    "\n",
    "## Step 4.d: `make.code.defn` \\[Back to [top](#toc)\\]\n",
    "$$\\label{make_code_defn}$$"
   ]
  },
  {
   "cell_type": "code",
   "execution_count": 7,
   "id": "03368886",
   "metadata": {},
   "outputs": [],
   "source": [
    "def generate_make_code_defn():\n",
    "    filepath = os.path.join(Srcdir,\"make.code.defn\")\n",
    "    with open(filepath,\"w\") as file:\n",
    "        file.write(\"# \"+ThornName+\"\"\" make.code.defn file\n",
    "SRCS = IsotropicGasID.c\"\"\")\n",
    "    print(\"Output make.code.defn file to \"+filepath)"
   ]
  },
  {
   "cell_type": "code",
   "execution_count": 8,
   "id": "8bdd806d",
   "metadata": {},
   "outputs": [],
   "source": [
    "def generate_ccl_files():\n",
    "    generate_interface_ccl()\n",
    "    generate_param_ccl()\n",
    "    generate_schedule_ccl()\n",
    "    generate_make_code_defn()"
   ]
  },
  {
   "cell_type": "code",
   "execution_count": 9,
   "id": "01e6ccc0",
   "metadata": {},
   "outputs": [],
   "source": [
    "def generate_thorn__IsotropicGasID():\n",
    "    generate_ccl_files()\n",
    "    add_to_Cfunction_dict__IsotropicGasID()"
   ]
  },
  {
   "cell_type": "code",
   "execution_count": 10,
   "id": "34d6f030",
   "metadata": {},
   "outputs": [
    {
     "name": "stdout",
     "output_type": "stream",
     "text": [
      "Output interface.ccl file to IsotropicGasID/interface.ccl\n",
      "Output param.ccl file to IsotropicGasID/param.ccl\n",
      "Output schedule.ccl file to IsotropicGasID/schedule.ccl\n",
      "Output make.code.defn file to IsotropicGasID/src/make.code.defn\n",
      "Output C function IsotropicGasID() to file IsotropicGasID/src/IsotropicGasID.c\n"
     ]
    }
   ],
   "source": [
    "generate_thorn__IsotropicGasID()"
   ]
  },
  {
   "cell_type": "markdown",
   "id": "eab68bdb",
   "metadata": {},
   "source": [
    "<a id='latex_pdf_output'></a>\n",
    "\n",
    "# Step n: Output this notebook to $\\LaTeX$-formatted PDF file \\[Back to [top](#toc)\\]\n",
    "$$\\label{latex_pdf_output}$$\n",
    "\n",
    "The following code cell converts this Jupyter notebook into a proper, clickable $\\LaTeX$-formatted PDF file. After the cell is successfully run, the generated PDF may be found in the root NRPy+ tutorial directory, with filename\n",
    "[Tutorial-Tutorial-ETK_thorn-IsotropicGasID.pdf](Tutorial-Tutorial-ETK_thorn-IsotropicGasID.pdf) (Note that clicking on this link may not work; you may need to open the PDF file through another means.)"
   ]
  },
  {
   "cell_type": "code",
   "execution_count": 11,
   "id": "aa45e361",
   "metadata": {},
   "outputs": [
    {
     "name": "stdout",
     "output_type": "stream",
     "text": [
      "Created Tutorial-Tutorial-ETK_thorn-IsotropicGasID.tex, and compiled LaTeX\n",
      "    file to PDF file Tutorial-Tutorial-ETK_thorn-IsotropicGasID.pdf\n"
     ]
    }
   ],
   "source": [
    "cmd.output_Jupyter_notebook_to_LaTeXed_PDF(\"Tutorial-Tutorial-ETK_thorn-IsotropicGasID\")"
   ]
  }
 ],
 "metadata": {
  "kernelspec": {
   "display_name": "Python 3 (ipykernel)",
   "language": "python",
   "name": "python3"
  },
  "language_info": {
   "codemirror_mode": {
    "name": "ipython",
    "version": 3
   },
   "file_extension": ".py",
   "mimetype": "text/x-python",
   "name": "python",
   "nbconvert_exporter": "python",
   "pygments_lexer": "ipython3",
   "version": "3.9.2"
  }
 },
 "nbformat": 4,
 "nbformat_minor": 5
}
