{
 "cells": [
  {
   "cell_type": "markdown",
   "metadata": {},
   "source": [
    "# Tabulated EOS IllinoisGRMHD: $\\tau_{\\rm floor}$ estimation\n",
    "\n",
    "In this notebook we perform an estimate of the value of $\\tau_{\\rm floor}$, i.e. the minimum value allowed for the conserved energy variable $\\tau$ (see definition below) during a tabulated equation of state (EOS) run with `IllinoisGRMHD`."
   ]
  },
  {
   "cell_type": "markdown",
   "metadata": {},
   "source": [
    "The definition of the conserved energy variable $\\tilde{\\tau}$ can be read from equation (7) of the [`IllinoisGRMHD` release paper](https://arxiv.org/pdf/1501.07276.pdf) (see also equation (37) in [Duez *et al.* 2005](https://arxiv.org/pdf/astro-ph/0503420.pdf))\n",
    "\n",
    "$$\n",
    "\\newcommand{\\rhob}{\\rho_{\\rm b}}\n",
    "\\newcommand{\\rhostar}{\\rho_{\\star}}\n",
    "\\tilde{\\tau} = \\alpha^{2}\\sqrt{\\gamma}T^{00} - \\rhostar\\ ,\n",
    "$$\n",
    "\n",
    "where $\\alpha$ is the lapse function, $\\gamma = \\det\\left(\\gamma_{ij}\\right)$, with $\\gamma_{ij}$ the physical spatial metric, $\\rhostar \\equiv \\alpha\\sqrt{\\gamma}\\rhob u^{0}$ is the conserved density and $\\rhob$ the baryon density, $T^{\\mu\\nu}$ is the GRMHD energy-momentum tensor,\n",
    "\n",
    "$$\n",
    "\\newcommand{\\rhob}{\\rho_{\\rm b}}\n",
    "T^{\\mu\\nu} = \\left(\\rhob h + b^{2}\\right)u^{\\mu}u^{\\nu} + \\left(P + \\frac{b^{2}}{2}\\right)g^{\\mu\\nu} - b^{\\mu}b^{\\nu}\\ ,\n",
    "$$\n",
    "\n",
    "where $u^{\\mu}$ is the fluid 4-velocity, $h = 1 + \\epsilon + P/\\rhob$ is the specific enthalpy, $\\epsilon$ is the specific internal energy, $g^{\\mu\\nu}$ is the inverse of the physical spacetime metric $g_{\\mu\\nu}$, and $b^{\\mu}$ the magnetic field measure by an observer comoving with the fluid normalized by $\\sqrt{4\\pi}$.\n",
    "\n",
    "Following the standard definition of tilde variables in the literature, which are sometimes refered to as \"densitized variables\", we have that the \"undensitized\" conserved energy, $\\tau$, and density, $D$, are given by\n",
    "\n",
    "$$\n",
    "\\begin{align}\n",
    "D &= \\frac{\\rhostar}{\\sqrt{\\gamma}} = \\alpha u^{0}\\rhob = W\\rhob\\ ,\\\\\n",
    "\\tau &= \\frac{\\tilde{\\tau}}{\\sqrt{\\gamma}} = \\alpha^{2}T^{00} - D\\ ,\n",
    "\\end{align}\n",
    "$$\n",
    "\n",
    "where $W = \\alpha u^{0}$ is the Lorentz factor.\n",
    "\n",
    "To perform an estimation of $\\tau_{\\rm floor}$, we can choose flat space with zero velocities, i.e. $W=1$, and zero magnetic fields, i.e. $b^{\\mu} = 0$. Since in flat space $\\alpha=1$, we also know that $u^{0}=1$. This implies that\n",
    "\n",
    "$$\n",
    "T^{00}_{\\rm flat} = \\rhob h + P\\ .\n",
    "$$\n",
    "\n",
    "Also note that $D = W \\rhob = \\rhob$ in this case. Then\n",
    "\n",
    "$$\n",
    "\\begin{align}\n",
    "\\tau &= \\alpha^{2}T^{00} - D\\\\\n",
    "     &= \\rhob h + P - \\rhob\\\\\n",
    "     &= \\rhob\\left(1 + \\epsilon + \\frac{P}{\\rhob}\\right) + P - \\rhob\\\\\n",
    "     &= \\rhob + \\rhob\\epsilon + P + P - \\rhob\\\\\n",
    "     &= 2P + \\rhob\\epsilon\n",
    "\\end{align}\n",
    "$$\n",
    "\n",
    "Now we can simply use the EOS table to find the minimum allowed value of $\\tau$."
   ]
  },
  {
   "cell_type": "code",
   "execution_count": 5,
   "metadata": {},
   "outputs": [],
   "source": [
    "import numpy as np\n",
    "import h5py\n",
    "\n",
    "# Read in rho, P, and eps from the EOS table\n",
    "with h5py.File(\"/Users/werneck/eos_tables/SLy4_3335_rho391_temp163_ye66.h5\",\"r\") as table:\n",
    "    # Table keys for rho, P, and eps are \"logrho\",\n",
    "    # \"logpress\", and \"logenergy\", respectively.\n",
    "    # These all correspond to log10() of the\n",
    "    # respective quantity. Also, note that the\n",
    "    # specific internal energy is given in the\n",
    "    # table as\n",
    "    #\n",
    "    # log10(eps + eps_0),\n",
    "    #\n",
    "    # where eps_0 is the entry \"energy_shift\",\n",
    "    # which is a scalar.\n",
    "    rhob = 10**np.array(table[\"logrho\"   ])[:]\n",
    "    P    = 10**np.array(table[\"logpress\" ])[:]\n",
    "    eps  = 10**np.array(table[\"logenergy\"])[:] - table[\"energy_shift\"][0]\n",
    "\n",
    "# At this stage, the quantities we just read are given in cgs\n",
    "# units. This is not particularly interesting for us because\n",
    "# we use units in which G = c = Msun = 1 in IllinoisGRMHD.\n",
    "# So let us first convert to the appropriate units.\n",
    "import astropy.constants as constants\n",
    "# Speed of light [L]^{1} [T]^{-1}\n",
    "c = constants.c.cgs.value\n",
    "# Gravitational constant [L]^{3} [M]^{-1} [T]^{-2}\n",
    "G = constants.G.cgs.value\n",
    "# Mass of the sun [M]^{1}\n",
    "M = constants.M_sun.cgs.value\n",
    "# Now compute the unit of length\n",
    "L_units = G*M/c**2\n",
    "# Then the unit of time\n",
    "T_units = L_units/c\n",
    "# Then the unit of density\n",
    "D_units = M/L_units**3\n",
    "# Then the unit of pressure\n",
    "P_units = M/L_units/T_units**2\n",
    "# Finally the units of specific internal energy (erg/g)\n",
    "E_units = c**2\n",
    "\n",
    "# Now convert to M=c=Msun=1 units\n",
    "rhob /= D_units\n",
    "P    /= P_units\n",
    "eps  /= E_units"
   ]
  },
  {
   "cell_type": "markdown",
   "metadata": {},
   "source": [
    "Now compute\n",
    "\n",
    "$$\n",
    "\\tau = 2P + \\rhob\\epsilon\\ ,\n",
    "$$\n",
    "\n",
    "and find the minimum value allowed by the table."
   ]
  },
  {
   "cell_type": "code",
   "execution_count": 9,
   "metadata": {},
   "outputs": [
    {
     "name": "stdout",
     "output_type": "stream",
     "text": [
      "Minimum allowed tau (flat space, zero velocities, zero magnetic fields): -3.106926148724047e-10\n"
     ]
    }
   ],
   "source": [
    "tau = 2*P + rhob*eps\n",
    "print(\"Minimum allowed tau (flat space, zero velocities, zero magnetic fields): %.15e\"%(tau.min()))"
   ]
  }
 ],
 "metadata": {
  "kernelspec": {
   "display_name": "Python 3",
   "language": "python",
   "name": "python3"
  },
  "language_info": {
   "codemirror_mode": {
    "name": "ipython",
    "version": 3
   },
   "file_extension": ".py",
   "mimetype": "text/x-python",
   "name": "python",
   "nbconvert_exporter": "python",
   "pygments_lexer": "ipython3",
   "version": "3.9.1"
  }
 },
 "nbformat": 4,
 "nbformat_minor": 4
}
