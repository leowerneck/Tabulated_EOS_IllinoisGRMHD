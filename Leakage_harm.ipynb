{
 "cells": [
  {
   "cell_type": "code",
   "execution_count": 1,
   "metadata": {},
   "outputs": [],
   "source": [
    "from fdint import *\n",
    "import numpy as np\n",
    "import matplotlib.pyplot as plt\n",
    "\n",
    "C_alpha_neutrino_sq=1.5625\n",
    "C_A_sigma_0=1.05989679136e-20\n",
    "C_me2_c3_ev=8.71002308255\n",
    "C_hc3_ev=1.90589514992e-12\n",
    "C_amu=1.66053886e-24\n",
    "R_CONV =7.97315453692e-24\n",
    "Q_CONV= 1.42134688491e-56\n",
    "rho_gf=  1.61887093132742E-18\n",
    "inv_rho_gf=  6.17714470405638E+17\n",
    "C_fine_struct=0.00729735252051\n",
    "C_sigma_0_cl=5.2763472608e-34\n",
    "C_me2_c4=2.61119922915e+11\n",
    "C_hc_ev=0.000123984197386\n",
    "\n",
    "\n",
    "epsgf=1.11265005605362e-21\n",
    "inv_epsgf=8.98755178736818e20\n",
    "\n",
    "from scipy.interpolate import interpn\n",
    "# normal stuff\n",
    "import matplotlib.pyplot as plt\n",
    "import numpy as np\n",
    "from astropy.io import ascii\n",
    "from astropy.table import Table, Column, MaskedColumn\n",
    "import h5py\n",
    "import scipy as scipy\n",
    "from scipy import integrate\n",
    "import glob\n",
    "\n",
    "import matplotlib as mpl\n",
    "%matplotlib inline\n",
    "\n",
    "# set some global options\n",
    "\n",
    "plt.rcParams['figure.figsize'] = (6,5)\n",
    "plt.rcParams['legend.frameon'] = False\n",
    "plt.rcParams['legend.fontsize'] = 14\n",
    "plt.rcParams['legend.borderpad'] = 0.1\n",
    "plt.rcParams['legend.labelspacing'] = 0.1\n",
    "plt.rcParams['legend.handletextpad'] = 0.1\n",
    "plt.rcParams['font.family'] = 'stixgeneral'\n",
    "plt.rcParams['font.size'] = 16\n"
   ]
  },
  {
   "cell_type": "code",
   "execution_count": 2,
   "metadata": {},
   "outputs": [],
   "source": [
    "#eos table location\n",
    "f = h5py.File('/Users/werneck/eos_tables/SLy4_3335_rho391_temp163_ye66.h5', 'r')"
   ]
  },
  {
   "cell_type": "code",
   "execution_count": 3,
   "metadata": {},
   "outputs": [],
   "source": [
    "#reading the table data\n",
    "logrho_new_grid,temp_new_grid, ye_new_grid=np.meshgrid(f['logrho'],f['logtemp'], f['ye'])\n",
    "logrho_new_grid=logrho_new_grid+np.log10(1.61887093132742e-18)\n",
    "entropy_new_grid=f['entropy'][()]\n",
    "mu_e_new_grid=f['mu_e'][()]\n",
    "mu_p_new_grid=f['mu_p'][()]\n",
    "mu_n_new_grid=f['mu_n'][()]\n",
    "mu_hat_new_grid=f['muhat'][()]\n",
    "press_new_grid=10**(f['logpress'][()]+ np.log10(1.80123683248503e-39))\n",
    "eps_new_grid=(10**(f['logenergy'][()])-f['energy_shift'][()])*1.11265005605362e-21\n",
    "rho_unit_new_grid=10**(f['logrho'][()] + np.log10(1.61887093132742e-18))\n",
    "\n"
   ]
  },
  {
   "cell_type": "code",
   "execution_count": 4,
   "metadata": {},
   "outputs": [],
   "source": [
    "#this functions will be used later, they solve the temperature given a rho, ye, eps\n",
    "\n",
    "def funct_for_solve_for_t(temp,eps,rho, ye):\n",
    "    return eps-interpn((f['ye'][()],10**f['logtemp'][()],rho_unit_new_grid), eps_new_grid, (ye,temp,rho))\n",
    "from scipy.optimize import newton\n",
    "\n",
    "def t_as_f_eps(eps, rho, ye):\n",
    "    temp_init=1.\n",
    "    root = newton(funct_for_solve_for_t, temp_init, maxiter=10000, args=(eps,rho,ye))\n",
    "    return root"
   ]
  },
  {
   "cell_type": "code",
   "execution_count": 5,
   "metadata": {},
   "outputs": [],
   "source": [
    "#from here on, there are functions that calculate the R, Q analitically \n",
    "\n",
    "def get_R_beta_antinu(ye0, t, u0, rho0, temp_in):\n",
    "    \n",
    "    temp0=temp_in#t_as_f_eps(u0/(1/1.60218e-12*inv_rho_gf/5.02916918125126E-34/1.11265005605362E-21)/(rho0/inv_rho_gf), rho0/inv_rho_gf, ye0)\n",
    "    \n",
    "    \n",
    "    temp_ev=temp0*1e6\n",
    "    \n",
    "    mu_hat=interpn((f['ye'][()],10**f['logtemp'][()],rho_unit_new_grid), mu_hat_new_grid, (ye0,temp0,rho0/inv_rho_gf))\n",
    "    mu_e=interpn((f['ye'][()],10**f['logtemp'][()],rho_unit_new_grid), mu_e_new_grid, (ye0,temp0,rho0/inv_rho_gf))\n",
    "    mu_p=interpn((f['ye'][()],10**f['logtemp'][()],rho_unit_new_grid), mu_p_new_grid, (ye0,temp0,rho0/inv_rho_gf))\n",
    "    mu_n=interpn((f['ye'][()],10**f['logtemp'][()],rho_unit_new_grid), mu_n_new_grid, (ye0,temp0,rho0/inv_rho_gf))\n",
    "    \n",
    "    eta_mu_hat=mu_hat/temp0\n",
    "    eta_mu_e=mu_e/temp0\n",
    "    eta_mu_p=mu_p/temp0\n",
    "    eta_mu_n=mu_n/temp0\n",
    "    eta__nu_e = -(mu_e/temp0 - mu_hat/temp0)\n",
    "    \n",
    "    \n",
    "    if ye0<0.5:\n",
    "        Y_np = ((2.0 * ye0 - 1.0) / (np.exp(-eta_mu_hat) - 1.0))\n",
    "    else:\n",
    "        Y_np=1.-ye0\n",
    "    \n",
    "\n",
    "    fermi_int=fdk(k=4,phi=-eta_mu_e)\n",
    "    energy_moment = (8.0 * np.pi) * ((temp_ev**5.) / C_hc3_ev) * fermi_int\n",
    "\n",
    "\n",
    "    fermi_int_order_5 = fdk(k=5,phi=-eta_mu_e)\n",
    "    fermi_int_order_4 = fdk(k=4,phi=-eta_mu_e)\n",
    "    blocking_factor = 1.0 / (1.0 + np.exp(-((fermi_int_order_5 / fermi_int_order_4) - eta__nu_e)))\n",
    "    \n",
    "\n",
    "    \n",
    "    R_beta=((1.0 + 3.0 * C_alpha_neutrino_sq) / 8.0) * (C_A_sigma_0 / (C_me2_c3_ev)) * rho0 * Y_np * energy_moment * blocking_factor\n",
    "\n",
    "\n",
    "    return (R_beta[0])/rho0*C_amu\n",
    "\n",
    "\n",
    "def get_Q_beta_antinu(ye0, t, u0, rho0, temp_in):\n",
    "    \n",
    "    temp0=temp_in#t_as_f_eps(u0/(1/1.60218e-12*inv_rho_gf/5.02916918125126E-34/1.11265005605362E-21)/(rho0/inv_rho_gf), rho0/inv_rho_gf, ye0)\n",
    "\n",
    "    temp_ev=temp0*1e6\n",
    "    R_beta=get_R_beta_antinu(ye0, 0., u0,rho0, temp0)*rho0/C_amu\n",
    "    \n",
    "    mu_hat=interpn((f['ye'][()],10**f['logtemp'][()],rho_unit_new_grid), mu_hat_new_grid, (ye0,temp0,rho0/inv_rho_gf))\n",
    "    mu_e=interpn((f['ye'][()],10**f['logtemp'][()],rho_unit_new_grid), mu_e_new_grid, (ye0,temp0,rho0/inv_rho_gf))\n",
    "    mu_p=interpn((f['ye'][()],10**f['logtemp'][()],rho_unit_new_grid), mu_p_new_grid, (ye0,temp0,rho0/inv_rho_gf))\n",
    "    mu_n=interpn((f['ye'][()],10**f['logtemp'][()],rho_unit_new_grid), mu_n_new_grid, (ye0,temp0,rho0/inv_rho_gf))\n",
    "    \n",
    "    eta_mu_hat=mu_hat/temp0\n",
    "    eta_mu_e=mu_e/temp0\n",
    "    eta_mu_p=mu_p/temp0\n",
    "    eta_mu_n=mu_n/temp0\n",
    "    eta__nu_e = -(mu_e/temp0 - mu_hat/temp0)\n",
    "\n",
    "    fermi_int = fdk(k=5,phi=-eta_mu_e)\n",
    "    energy_moment_star =  (8.0 * np.pi) * (temp_ev**6 / C_hc3_ev) * fermi_int\n",
    "    \n",
    "    fermi_int = fdk(k=4,phi=-eta_mu_e)\n",
    "    energy_moment_tilde = (8.0 * np.pi) * (temp_ev**5 / C_hc3_ev) * fermi_int\n",
    "    \n",
    "    #print -R_beta*energy_moment_star/energy_moment_tilde\n",
    "    #print R_beta\n",
    "    \n",
    "    return -R_beta*energy_moment_star/energy_moment_tilde\n",
    "\n"
   ]
  },
  {
   "cell_type": "code",
   "execution_count": 6,
   "metadata": {},
   "outputs": [],
   "source": [
    "def get_R_beta_nu(ye0, t, u0, rho0, temp_in):\n",
    "    \n",
    "    #temp0=t_as_f_eps(u0/(1/1.60218e-12*inv_rho_gf/5.02916918125126E-34/1.11265005605362E-21)/(rho0/inv_rho_gf), rho0/inv_rho_gf, ye0)\n",
    "    temp0=temp_in\n",
    "\n",
    "    \n",
    "    temp_ev=temp0*1e6\n",
    "\n",
    "    mu_hat=interpn((f['ye'][()],10**f['logtemp'][()],rho_unit_new_grid), mu_hat_new_grid, (ye0,temp0,rho0/inv_rho_gf))\n",
    "    mu_e=interpn((f['ye'][()],10**f['logtemp'][()],rho_unit_new_grid), mu_e_new_grid, (ye0,temp0,rho0/inv_rho_gf))\n",
    "    mu_p=interpn((f['ye'][()],10**f['logtemp'][()],rho_unit_new_grid), mu_p_new_grid, (ye0,temp0,rho0/inv_rho_gf))\n",
    "    mu_n=interpn((f['ye'][()],10**f['logtemp'][()],rho_unit_new_grid), mu_n_new_grid, (ye0,temp0,rho0/inv_rho_gf))\n",
    "    \n",
    "    eta_mu_hat=mu_hat/temp0\n",
    "    eta_mu_e=mu_e/temp0\n",
    "    eta_mu_p=mu_p/temp0\n",
    "    eta_mu_n=mu_n/temp0\n",
    "    eta__nu_e = mu_e/temp0 - mu_hat/temp0\n",
    "    \n",
    "    #eta__nu_e=200\n",
    "    #eta_mu_e=15\n",
    "    \n",
    "    \n",
    "    if ye0>0.5:\n",
    "        Y_pn = np.exp(-eta_mu_hat)*((2.0 * ye0 - 1.0) / (np.exp(-eta_mu_hat) - 1.0))\n",
    "    else:\n",
    "        Y_pn=ye0\n",
    "\n",
    "\n",
    "    fermi_int=fdk(k=4,phi=eta_mu_e)\n",
    "    energy_moment = (8.0 * np.pi) * ((temp_ev**5.) / C_hc3_ev) * fermi_int\n",
    "\n",
    "\n",
    "    fermi_int_order_5 = fdk(k=5,phi=eta_mu_e)\n",
    "    fermi_int_order_4 = fdk(k=4,phi=eta_mu_e)\n",
    "    blocking_factor = 1.0 / (1.0 + np.exp(-((fermi_int_order_5 / fermi_int_order_4) - eta__nu_e)))\n",
    "\n",
    "\n",
    "\n",
    "    R_beta=((1.0 + 3.0 * C_alpha_neutrino_sq) / 8.0) * (C_A_sigma_0 / (C_me2_c3_ev)) * rho0 * Y_pn * energy_moment * blocking_factor\n",
    "    \n",
    "    #fermi_int = fdk(k=2,phi=eta__nu_e)\n",
    "\n",
    "    #neutrino_density= 4*np.pi* temperaturev*temperaturev*temperaturev/C_hc3_ev * fermi_int\n",
    "    #t_inv=R_beta/neutrino_density\n",
    "    #print R_beta\n",
    "    return -(R_beta[0])/rho0*C_amu#, Q_beta\n",
    "\n",
    "\n",
    "def get_Q_beta_nu(ye0, t, u0, rho0, temp_in):\n",
    "    \n",
    "    temp0=temp_in#t_as_f_eps(u0/(1/1.60218e-12*inv_rho_gf/5.02916918125126E-34/1.11265005605362E-21)/(rho0/inv_rho_gf), rho0/inv_rho_gf, ye0)\n",
    "\n",
    "    \n",
    "    temp_ev=temp0*1e6\n",
    "    R_beta=-get_R_beta_nu(ye0, 0., u0,rho0, temp0)*rho0/C_amu\n",
    "    \n",
    "    mu_hat=interpn((f['ye'][()],10**f['logtemp'][()],rho_unit_new_grid), mu_hat_new_grid, (ye0,temp0,rho0/inv_rho_gf))\n",
    "    mu_e=interpn((f['ye'][()],10**f['logtemp'][()],rho_unit_new_grid), mu_e_new_grid, (ye0,temp0,rho0/inv_rho_gf))\n",
    "    mu_p=interpn((f['ye'][()],10**f['logtemp'][()],rho_unit_new_grid), mu_p_new_grid, (ye0,temp0,rho0/inv_rho_gf))\n",
    "    mu_n=interpn((f['ye'][()],10**f['logtemp'][()],rho_unit_new_grid), mu_n_new_grid, (ye0,temp0,rho0/inv_rho_gf))\n",
    "    \n",
    "    eta_mu_hat=mu_hat/temp0\n",
    "    eta_mu_e=mu_e/temp0\n",
    "    eta_mu_p=mu_p/temp0\n",
    "    eta_mu_n=mu_n/temp0\n",
    "    eta__nu_e = mu_e/temp0 - mu_hat/temp0\n",
    "\n",
    "    fermi_int = fdk(k=5,phi=eta_mu_e)\n",
    "    energy_moment_star =  (8.0 * np.pi) * (temp_ev**6 / C_hc3_ev) * fermi_int\n",
    "    \n",
    "    fermi_int = fdk(k=4,phi=eta_mu_e)\n",
    "    energy_moment_tilde = (8.0 * np.pi) * (temp_ev**5 / C_hc3_ev) * fermi_int\n",
    "    \n",
    "    return -R_beta*energy_moment_star/energy_moment_tilde"
   ]
  },
  {
   "cell_type": "code",
   "execution_count": 7,
   "metadata": {},
   "outputs": [],
   "source": [
    "def R_plasmon(ye0, t, u0, rho0, temp_in):\n",
    "    \n",
    "    temp0=temp_in#t_as_f_eps(u0/(1.60218e-12*inv_rho_gf/5.02916918125126E-34/1.11265005605362E-21)/(rho0/inv_rho_gf), rho0/inv_rho_gf, ye0)\n",
    "    \n",
    "    temp_ev=temp0*1e6\n",
    "    \n",
    "    mu_hat=interpn((f['ye'][()],10**f['logtemp'][()],rho_unit_new_grid), mu_hat_new_grid, (ye0,temp0,rho0/inv_rho_gf))\n",
    "    mu_e=interpn((f['ye'][()],10**f['logtemp'][()],rho_unit_new_grid), mu_e_new_grid, (ye0,temp0,rho0/inv_rho_gf))\n",
    "    mu_p=interpn((f['ye'][()],10**f['logtemp'][()],rho_unit_new_grid), mu_p_new_grid, (ye0,temp0,rho0/inv_rho_gf))\n",
    "    mu_n=interpn((f['ye'][()],10**f['logtemp'][()],rho_unit_new_grid), mu_n_new_grid, (ye0,temp0,rho0/inv_rho_gf))\n",
    "    \n",
    "    eta_mu_hat=mu_hat/temp0\n",
    "    eta_mu_e=mu_e/temp0\n",
    "    eta_mu_p=mu_p/temp0\n",
    "    eta_mu_n=mu_n/temp0\n",
    "    eta__nu_e = mu_e/temp0 - mu_hat/temp0\n",
    "    eta__antinu_e = -(mu_e/temp0 - mu_hat/temp0)\n",
    "    \n",
    "    gamma_0 = 0.05565\n",
    "    gamma = gamma_0 * np.sqrt((1.0 / 3.0) * (np.pi**2 + 3.0 *eta_mu_e**2))\n",
    "    C_value = 0.9216\n",
    "    \n",
    "    neutrino_blocking_factor=1.0 / (1.0 + exp(-(1.0 + 0.5 * gamma**2 / (1.0 + gamma)) - eta__nu_e))\n",
    "    anti_neutrino_blocking_factor=1.0 / (1.0 + exp(-(1.0 + 0.5 * gamma**2 / (1.0 + gamma)) - eta__antinu_e))\n",
    "    \n",
    "    \n",
    "    R_plasmon=(np.pi**3 / (3.0 * C_fine_struct)) * C_value * (C_sigma_0_cl/ C_me2_c4) * (temp_ev**8 /C_hc_ev**6) *gamma**6 * np.exp(-gamma) * (1.0 + gamma) * neutrino_blocking_factor * anti_neutrino_blocking_factor\n",
    "        \n",
    "    return R_plasmon\n",
    "def R_plasmon_for_ode(ye0, t, u0, rho0, temp_in):\n",
    "    return 0.\n",
    "    \n",
    "\n",
    "def Q_plasmon(ye0, t, u0, rho0, temp_in):   \n",
    "    \n",
    "    temp0=temp_in#t_as_f_eps(u0/(1.60218e-12*inv_rho_gf/5.02916918125126E-34/1.11265005605362E-21)/(rho0/inv_rho_gf), rho0/inv_rho_gf, ye0)\n",
    "    \n",
    "    temp_ev=temp0*1e6\n",
    "    gamma_0 = 0.05565\n",
    "    gamma = gamma_0 * np.sqrt((1.0 / 3.0) * (np.pi**2 + 3.0 *eta_mu_e**2))\n",
    "    \n",
    "    R_gamma=R_plasmon(ye0, t, u0, rho0, temp_in)\n",
    "    \n",
    "    Q_plasmon= temp_ev * (2.0 + ((gamma * gamma) / (1.0 + gamma))) * R_gamma\n",
    "    return Q_plasmon"
   ]
  },
  {
   "cell_type": "code",
   "execution_count": 16,
   "metadata": {},
   "outputs": [],
   "source": [
    "def R_ee(ye0, t, u0, rho0, temp_in):\n",
    "    C_values = 2.3432\n",
    "    \n",
    "    temp0=temp_in#t_as_f_eps(u0/(1.60218e-12*inv_rho_gf/5.02916918125126E-34/1.11265005605362E-21)/(rho0/inv_rho_gf), rho0/inv_rho_gf, ye0)\n",
    "    \n",
    "    temp_ev=temp0*1e6\n",
    "    \n",
    "    mu_hat=interpn((f['ye'][()],10**f['logtemp'][()],rho_unit_new_grid), mu_hat_new_grid, (ye0,temp0,rho0/inv_rho_gf))\n",
    "    mu_e=interpn((f['ye'][()],10**f['logtemp'][()],rho_unit_new_grid), mu_e_new_grid, (ye0,temp0,rho0/inv_rho_gf))\n",
    "    mu_p=interpn((f['ye'][()],10**f['logtemp'][()],rho_unit_new_grid), mu_p_new_grid, (ye0,temp0,rho0/inv_rho_gf))\n",
    "    mu_n=interpn((f['ye'][()],10**f['logtemp'][()],rho_unit_new_grid), mu_n_new_grid, (ye0,temp0,rho0/inv_rho_gf))\n",
    "    \n",
    "    eta_mu_hat=mu_hat/temp0\n",
    "    eta_mu_e=mu_e/temp0\n",
    "    eta_mu_p=mu_p/temp0\n",
    "    eta_mu_n=mu_n/temp0\n",
    "    eta__nu_e = mu_e/temp0 - mu_hat/temp0\n",
    "    eta__antinu_e = -(mu_e/temp0 - mu_hat/temp0)\n",
    "    \n",
    "    \n",
    "    fermi_int = fdk(k=3,phi=eta_mu_e) \n",
    "    electron_energy_moment=(8.0 * np.pi) * (temp_ev**4 / C_hc3_ev) * fermi_int\n",
    "    \n",
    "    fermi_int = fdk(k=3,phi=-eta_mu_e) \n",
    "    positron_energy_moment= (8.0 * np.pi) * (temp_ev**4 / C_hc3_ev) * fermi_int\n",
    "    \n",
    "    \n",
    "    electron_fermi_int_order_4 = fdk(k=4,phi=eta_mu_e) \n",
    "    electron_fermi_int_order_3 = fdk(k=3,phi=eta_mu_e)\n",
    "    positron_fermi_int_order_4 = fdk(k=4,phi=-eta_mu_e)\n",
    "    positron_fermi_int_order_3 = fdk(k=3,phi=-eta_mu_e)\n",
    "    \n",
    "    neutrino_blocking_factor=1.0 / (1.0 + np.exp(-((0.5 * (electron_fermi_int_order_4 / electron_fermi_int_order_3))+ (0.5 * (positron_fermi_int_order_4 / positron_fermi_int_order_3)) - eta__nu_e)))\n",
    "    anti_neutrino_blocking_factor =1.0 / (1.0 + np.exp(-((0.5 * (electron_fermi_int_order_4 / electron_fermi_int_order_3))+ (0.5 * (positron_fermi_int_order_4 / positron_fermi_int_order_3)) - eta__antinu_e)))\n",
    "\n",
    "\n",
    "    R_ee= (C_values / 36.0) * (C_sigma_0_cl/ C_me2_c4) *electron_energy_moment * positron_energy_moment * neutrino_blocking_factor * anti_neutrino_blocking_factor \n",
    "    print((C_values / 36.0) * (C_sigma_0_cl/ C_me2_c4))\n",
    "    return R_ee\n",
    "\n",
    "def R_ee_for_ode(ye0, t, u0, rho0, temp_in):\n",
    "    return 0.\n",
    "\n",
    "def Q_ee(ye0, t, u0, rho0, temp_in):\n",
    "        \n",
    "    temp0=temp_in#t_as_f_eps(u0/(1.60218e-12*inv_rho_gf/5.02916918125126E-34/1.11265005605362E-21)/(rho0/inv_rho_gf), rho0/inv_rho_gf, ye0)\n",
    "    \n",
    "    temp_ev=temp0*1e6\n",
    "    \n",
    "    mu_hat=interpn((f['ye'][()],10**f['logtemp'][()],rho_unit_new_grid), mu_hat_new_grid, (ye0,temp0,rho0/inv_rho_gf))\n",
    "    mu_e=interpn((f['ye'][()],10**f['logtemp'][()],rho_unit_new_grid), mu_e_new_grid, (ye0,temp0,rho0/inv_rho_gf))\n",
    "    mu_p=interpn((f['ye'][()],10**f['logtemp'][()],rho_unit_new_grid), mu_p_new_grid, (ye0,temp0,rho0/inv_rho_gf))\n",
    "    mu_n=interpn((f['ye'][()],10**f['logtemp'][()],rho_unit_new_grid), mu_n_new_grid, (ye0,temp0,rho0/inv_rho_gf))\n",
    "    \n",
    "    eta_mu_hat=mu_hat/temp0\n",
    "    eta_mu_e=mu_e/temp0\n",
    "    eta_mu_p=mu_p/temp0\n",
    "    eta_mu_n=mu_n/temp0\n",
    "    eta__nu_e = mu_e/temp0 - mu_hat/temp0\n",
    "    eta__antinu_e = -(mu_e/temp0 - mu_hat/temp0)\n",
    "    \n",
    "    \n",
    "    R_ee=R_ee(ye0, t, u0, rho0, temp_in)\n",
    "    \n",
    "    \n",
    "    Q_ee=R_ee * energy_moment_average/(ord_electron_energy_moment*ord_positron_energy_moment)\n",
    "    return Q_ee"
   ]
  },
  {
   "cell_type": "code",
   "execution_count": 17,
   "metadata": {},
   "outputs": [],
   "source": [
    "#time array to integrate\n",
    "t_s = np.linspace(0, 5, 100)"
   ]
  },
  {
   "cell_type": "code",
   "execution_count": 18,
   "metadata": {},
   "outputs": [],
   "source": [
    "#ode solvers (see murguia-berthier harm_nuc eq 59, 60)\n",
    "\n",
    "def ode_to_solve_beta_nu(y,t,rho0,temp0):\n",
    "    ye0,u0=y\n",
    "    Q_tot=get_Q_beta_nu(ye0, t, u0, rho0, temp0)\n",
    "    #print( Q_tot)\n",
    "    R_tot=get_R_beta_nu(ye0, t, u0, rho0, temp0)\n",
    "    #print(R_tot)\n",
    "    dydt = [R_tot, Q_tot]\n",
    "    return dydt\n",
    "\n",
    "def ode_to_solve_beta_antinu(y,t,rho0,temp0):\n",
    "    ye0,u0=y\n",
    "    Q_tot=get_Q_beta_antinu(ye0, t, u0, rho0, temp0)\n",
    "    #print Q_tot\n",
    "    R_tot=get_R_beta_antinu(ye0, t, u0, rho0, temp0)\n",
    "    #print R_tot\n",
    "    dydt = [R_tot, Q_tot]\n",
    "    return dydt\n"
   ]
  },
  {
   "cell_type": "code",
   "execution_count": 19,
   "metadata": {},
   "outputs": [
    {
     "name": "stdout",
     "output_type": "stream",
     "text": [
      "1.3152254977847807e-46\n",
      "[6.93706411e+29]\n"
     ]
    }
   ],
   "source": [
    "print(R_ee(0.5, 0, 0, 1e-12*inv_rho_gf, 1))"
   ]
  },
  {
   "cell_type": "code",
   "execution_count": 33,
   "metadata": {},
   "outputs": [
    {
     "ename": "NameError",
     "evalue": "name 'mev_to_erg' is not defined",
     "output_type": "error",
     "traceback": [
      "\u001b[0;31m---------------------------------------------------------------------------\u001b[0m",
      "\u001b[0;31mNameError\u001b[0m                                 Traceback (most recent call last)",
      "\u001b[0;32m/var/folders/8x/qypjrmd12n7_2mm0s7f2vf8r0000gn/T/ipykernel_79490/2440970062.py\u001b[0m in \u001b[0;36m<module>\u001b[0;34m\u001b[0m\n\u001b[0;32m----> 1\u001b[0;31m \u001b[0mmev_to_erg\u001b[0m\u001b[0;34m\u001b[0m\u001b[0;34m\u001b[0m\u001b[0m\n\u001b[0m",
      "\u001b[0;31mNameError\u001b[0m: name 'mev_to_erg' is not defined"
     ]
    }
   ],
   "source": [
    "mev_to_erg"
   ]
  },
  {
   "cell_type": "code",
   "execution_count": 20,
   "metadata": {},
   "outputs": [],
   "source": [
    "R_tot=get_Q_beta_nu(0.5, 0, 0, 1e-12*inv_rho_gf, 1)"
   ]
  },
  {
   "cell_type": "code",
   "execution_count": 21,
   "metadata": {},
   "outputs": [
    {
     "data": {
      "text/plain": [
       "array([-4.17807983e+35])"
      ]
     },
     "execution_count": 21,
     "metadata": {},
     "output_type": "execute_result"
    }
   ],
   "source": [
    "R_tot"
   ]
  },
  {
   "cell_type": "code",
   "execution_count": 32,
   "metadata": {},
   "outputs": [
    {
     "data": {
      "text/plain": [
       "-0.2215568535241419"
      ]
     },
     "execution_count": 32,
     "metadata": {},
     "output_type": "execute_result"
    }
   ],
   "source": [
    "get_R_beta_nu(0.5,0,0,1e-12*inv_rho_gf,1)"
   ]
  },
  {
   "cell_type": "code",
   "execution_count": 23,
   "metadata": {},
   "outputs": [],
   "source": [
    "#here is where the eq. is solved\n",
    "\n",
    "from scipy.integrate import odeint\n",
    "\n",
    "#for antinue\n",
    "rho0=1e-12\n",
    "temp0=1\n",
    "ye0=0.005\n",
    "u0=interpn((f['ye'][()],10**f['logtemp'][()],rho_unit_new_grid), eps_new_grid, (ye0,temp0,rho0))*rho0\n",
    "\n",
    "y0_antinu=[ye0,u0/1.60218e-12*inv_rho_gf/5.02916918125126E-34/1.11265005605362E-21]\n",
    "sol_tot_antinu= odeint(ode_to_solve_beta_antinu, y0_antinu, t_s, args=(rho0*inv_rho_gf, temp0))"
   ]
  },
  {
   "cell_type": "code",
   "execution_count": 25,
   "metadata": {},
   "outputs": [],
   "source": [
    "#for nu\n",
    "rho0=1e-12\n",
    "temp0=1\n",
    "ye0=0.5\n",
    "u0=6.717695e-13 \n",
    "u0=interpn((f['ye'][()],10**f['logtemp'][()],rho_unit_new_grid), eps_new_grid, (ye0,temp0,rho0))*rho0"
   ]
  },
  {
   "cell_type": "code",
   "execution_count": 26,
   "metadata": {},
   "outputs": [],
   "source": [
    "t_as_f_eps_vec=np.vectorize(t_as_f_eps)"
   ]
  },
  {
   "cell_type": "code",
   "execution_count": 27,
   "metadata": {},
   "outputs": [
    {
     "data": {
      "image/png": "[encoded data removed]",
      "text/plain": [
       "<Figure size 432x720 with 2 Axes>"
      ]
     },
     "metadata": {
      "needs_background": "light"
     },
     "output_type": "display_data"
    }
   ],
   "source": [
    "plt.figure(figsize=(6,10))\n",
    "\n",
    "ax1=plt.subplot(211)\n",
    "plt.plot(t_s,t_as_f_eps_vec(sol_tot_antinu[:,1]/(1/1.60218e-12*inv_rho_gf/5.02916918125126E-34/1.11265005605362E-21)/rho0,rho0, sol_tot_antinu[:,0])-1, c='orchid', lw=4, alpha=0.7,label='')# label=r'$\\beta$-process with $\\bar{\\nu}_{\\rm e}$')\n",
    "#plt.plot(time_array_antinu[temp_array_antinu!=0.]*4.92513293223396E-06, temp_array_antinu[temp_array_antinu!=0.]-1, '--', c='purple', lw=4,label='')\n",
    "\n",
    "#plt.plot(t_s,t_as_f_eps_vec(sol_tot_nu[:,1]/(1/1.60218e-12*inv_rho_gf/5.02916918125126E-34/1.11265005605362E-21)/rho0,rho0, sol_tot_nu[:,0])-1, c='skyblue', lw=4, alpha=0.7,label='')#, label=r'$\\beta$-process with $\\nu_{\\rm e}$')\n",
    "#plt.plot(time_array_nu[temp_array_nu!=0.]*4.92513293223396E-06, temp_array_nu[temp_array_nu!=0.]-1, '--', c='blue', lw=4,label='')\n",
    "\n",
    "plt.plot(1,1,'--', c='black', lw=4, label='Semi-analytical solution')\n",
    "plt.plot(1,1,'-', c='black', lw=4, label='Simulation')\n",
    "#plt.set_xticklabels([])\n",
    "#plt.xlabel('Time (s)')\n",
    "plt.ylabel(r'$T-T_0$ (MeV)')\n",
    "plt.legend(fontsize=15, loc=3)\n",
    "plt.xlim(0,0.5)\n",
    "#\n",
    "plt.ylim(0.99975-1,1.0002-1)\n",
    "\n",
    "ax2=plt.subplot(212)\n",
    "plt.plot(t_s, sol_tot_antinu[:,0], c='orchid', lw=4, alpha=0.7, label=r'$\\beta$-process with $\\bar{\\nu}_{e}$')\n",
    "#plt.plot(time_array_antinu[ye_array_antinu!=0]*4.92513293223396E-06, ye_array_antinu[ye_array_antinu!=0], '--', c='purple', lw=4,label='')\n",
    "\n",
    "#plt.plot(t_s, sol_tot_nu[:,0]-0.5, c='skyblue', lw=4, alpha=0.7, label=r'$\\beta$-process with $\\nu_{ e}$')\n",
    "#plt.plot(time_array_nu[ye_array_nu!=0]*4.92513293223396E-06, ye_array_nu[ye_array_nu!=0]-0.5, '--', c='blue', lw=4,label='')\n",
    "\n",
    "\n",
    "\n",
    "plt.xlabel('Time (s)')\n",
    "plt.ylabel(r'$Y_{e}-Y_{e0}$')\n",
    "plt.xlim(0,0.5)\n",
    "plt.ylim(-0.2,0.2)\n",
    "plt.legend(loc=2, fontsize=15)\n",
    "plt.subplots_adjust(hspace=0.07)\n",
    "\n",
    "ax1.tick_params(labelbottom=False)    \n",
    "#plt.show()\n",
    "#plt.savefig('beta_process.pdf', dpi=150, bbox_inches='tight')"
   ]
  },
  {
   "cell_type": "code",
   "execution_count": null,
   "metadata": {},
   "outputs": [],
   "source": []
  },
  {
   "cell_type": "code",
   "execution_count": null,
   "metadata": {},
   "outputs": [],
   "source": []
  }
 ],
 "metadata": {
  "kernelspec": {
   "display_name": "Python 3 (ipykernel)",
   "language": "python",
   "name": "python3"
  },
  "language_info": {
   "codemirror_mode": {
    "name": "ipython",
    "version": 3
   },
   "file_extension": ".py",
   "mimetype": "text/x-python",
   "name": "python",
   "nbconvert_exporter": "python",
   "pygments_lexer": "ipython3",
   "version": "3.9.8"
  }
 },
 "nbformat": 4,
 "nbformat_minor": 4
}
